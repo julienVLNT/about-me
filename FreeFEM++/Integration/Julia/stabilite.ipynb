{
 "cells": [
  {
   "cell_type": "markdown",
   "metadata": {},
   "source": [
    "# Etude de la stabilité d'un schéma éléments finis pour l'équation de Poisson"
   ]
  },
  {
   "cell_type": "markdown",
   "metadata": {},
   "source": [
    "Soit $\\Omega$ le disque unité ouvert de $\\mathbb{R}^2$. On considère\n",
    "\n",
    "$$\n",
    "u :\n",
    "\\left\\{\n",
    "\\begin{array}{rcl}\n",
    "\\Omega & \\longrightarrow & \\mathbb{R} \\\\\n",
    "(x,y) & \\longmapsto & 1 - x^2 - y^2\n",
    "\\end{array}\n",
    "\\right.\n",
    "$$\n",
    "\n",
    "$u$ est une fonction analytique (car polynomiale) sur le domaine $\\Omega$. De plus, on calcule\n",
    "\n",
    "$$\n",
    "\\frac{\\partial^2 u}{\\partial x^2}(x, y) = - 2\n",
    "$$\n",
    "\n",
    "et \n",
    "\n",
    "$$\n",
    "\\frac{\\partial^2 u}{\\partial y^2}(x, y) = -2\n",
    "$$\n",
    "\n",
    "si bien que \n",
    "\n",
    "$$\n",
    "-\\Delta u \\, (x, y) = 4\n",
    "$$\n",
    "\n",
    "qui est l'équation de Poisson que nous allons prendre comme problème test. D'autre part, la fonction $u$ est nulle sur le bord du disque, ce qui nous donne des conditions aux limites de Dirichlet homogènes. La formulation variationnelle associée au problème s'écrit\n",
    "\n",
    "> **Trouver** $u \\in H^1_0(\\Omega)$ telle que\n",
    ">\n",
    "> $$\n",
    "> \\int_\\Omega \\nabla u \\cdot \\nabla v d\\mathbf{x} = \\int_\\Omega f v d\\mathbf{x} \\hspace{30pt} \\forall v \\in H^1_0(\\Omega)\n",
    "> $$\n",
    "\n",
    "Ce problème est implémenté dans le script `script.edp`, écrit en langage FreeFEM++. Le setup choisi est la base d'interpolation $P_1$-Lagrange et la formule de quadrature par défaut."
   ]
  },
  {
   "cell_type": "markdown",
   "metadata": {},
   "source": [
    "### Execution"
   ]
  },
  {
   "cell_type": "code",
   "execution_count": 1,
   "metadata": {},
   "outputs": [],
   "source": [
    "run(`FreeFem++ poisson.edp -ns`)"
   ]
  },
  {
   "cell_type": "markdown",
   "metadata": {},
   "source": [
    "Le script écrit dans le fichier `erreur.dat` la norme $L^2(\\mathcal{T}_h)$ de l'erreur entre la solution analytique et son interpolée. La norme s'écrit\n",
    "\n",
    "$$\n",
    "\\epsilon := \\| u - u_a \\|_{L^2(\\mathcal{T}_h)} = \\sqrt{ \\frac{1}{\\left|\\mathcal{T}_h\\right|}\\int_{\\mathcal{T}_h} (u - u_a)^2 d\\mathbf{x} }\n",
    "$$"
   ]
  },
  {
   "cell_type": "markdown",
   "metadata": {},
   "source": [
    "### Lecture des résultats"
   ]
  },
  {
   "cell_type": "markdown",
   "metadata": {},
   "source": [
    "On connaît au moins trois manières de lire un fichier `.csv` en *Julia*. Deux utilisant la librairie *CSV.jl* sont\n",
    "\n",
    "```julia\n",
    "data = DataFrame(CSV.File(\"erreur.dat\"))\n",
    "```\n",
    "\n",
    "une deuxième serait\n",
    "\n",
    "```julia\n",
    "data = CSV.File(\"erreur.dat\") |> DataFrame\n",
    "```"
   ]
  },
  {
   "cell_type": "code",
   "execution_count": 1,
   "metadata": {},
   "outputs": [
    {
     "data": {
      "text/html": [
       "<div class=\"data-frame\"><p>9 rows × 2 columns</p><table class=\"data-frame\"><thead><tr><th></th><th>nbelement</th><th>erreurL2</th></tr><tr><th></th><th title=\"Int64\">Int64</th><th title=\"Float64\">Float64</th></tr></thead><tbody><tr><th>1</th><td>8</td><td>0.182145</td></tr><tr><th>2</th><td>16</td><td>0.0477027</td></tr><tr><th>3</th><td>32</td><td>0.0116634</td></tr><tr><th>4</th><td>64</td><td>0.00290143</td></tr><tr><th>5</th><td>128</td><td>0.000720946</td></tr><tr><th>6</th><td>256</td><td>0.000180897</td></tr><tr><th>7</th><td>512</td><td>4.44642e-5</td></tr><tr><th>8</th><td>1024</td><td>1.11773e-5</td></tr><tr><th>9</th><td>2048</td><td>2.83151e-6</td></tr></tbody></table></div>"
      ],
      "text/latex": [
       "\\begin{tabular}{r|cc}\n",
       "\t& nbelement & erreurL2\\\\\n",
       "\t\\hline\n",
       "\t& Int64 & Float64\\\\\n",
       "\t\\hline\n",
       "\t1 & 8 & 0.182145 \\\\\n",
       "\t2 & 16 & 0.0477027 \\\\\n",
       "\t3 & 32 & 0.0116634 \\\\\n",
       "\t4 & 64 & 0.00290143 \\\\\n",
       "\t5 & 128 & 0.000720946 \\\\\n",
       "\t6 & 256 & 0.000180897 \\\\\n",
       "\t7 & 512 & 4.44642e-5 \\\\\n",
       "\t8 & 1024 & 1.11773e-5 \\\\\n",
       "\t9 & 2048 & 2.83151e-6 \\\\\n",
       "\\end{tabular}\n"
      ],
      "text/plain": [
       "\u001b[1m9×2 DataFrame\u001b[0m\n",
       "\u001b[1m Row \u001b[0m│\u001b[1m nbelement \u001b[0m\u001b[1m erreurL2    \u001b[0m\n",
       "\u001b[1m     \u001b[0m│\u001b[90m Int64     \u001b[0m\u001b[90m Float64     \u001b[0m\n",
       "─────┼────────────────────────\n",
       "   1 │         8  0.182145\n",
       "   2 │        16  0.0477027\n",
       "   3 │        32  0.0116634\n",
       "   4 │        64  0.00290143\n",
       "   5 │       128  0.000720946\n",
       "   6 │       256  0.000180897\n",
       "   7 │       512  4.44642e-5\n",
       "   8 │      1024  1.11773e-5\n",
       "   9 │      2048  2.83151e-6"
      ]
     },
     "metadata": {},
     "output_type": "display_data"
    }
   ],
   "source": [
    "using CSV\n",
    "using DataFrames\n",
    "\n",
    "data = CSV.read(\"erreur.dat\", DataFrame; header=1)\n",
    "data"
   ]
  },
  {
   "cell_type": "code",
   "execution_count": 2,
   "metadata": {},
   "outputs": [
    {
     "data": {
      "text/plain": [
       "2-element Vector{String}:\n",
       " \"nbelement\"\n",
       " \"erreurL2\""
      ]
     },
     "metadata": {},
     "output_type": "display_data"
    }
   ],
   "source": [
    "names(data)"
   ]
  },
  {
   "cell_type": "markdown",
   "metadata": {},
   "source": [
    "### Graphe de la norme de l'erreur"
   ]
  },
  {
   "cell_type": "code",
   "execution_count": 6,
   "metadata": {},
   "outputs": [
    {
     "data": {
      "image/png": "[encoded data removed]",
      "image/svg+xml": "<?xml version=\"1.0\" encoding=\"utf-8\"?>\n<svg xmlns=\"http://www.w3.org/2000/svg\" xmlns:xlink=\"http://www.w3.org/1999/xlink\" width=\"600\" height=\"400\" viewBox=\"0 0 2400 1600\">\n<defs>\n  <clipPath id=\"clip280\">\n    <rect x=\"0\" y=\"0\" width=\"2400\" height=\"1600\"/>\n  </clipPath>\n</defs>\n<path clip-path=\"url(#clip280)\" d=\"\nM0 1600 L2400 1600 L2400 0 L0 0  Z\n  \" fill=\"#ffffff\" fill-rule=\"evenodd\" fill-opacity=\"1\"/>\n<defs>\n  <clipPath id=\"clip281\">\n    <rect x=\"480\" y=\"0\" width=\"1681\" height=\"1600\"/>\n  </clipPath>\n</defs>\n<path clip-path=\"url(#clip280)\" d=\"\nM189.496 1474.16 L2352.76 1474.16 L2352.76 47.2441 L189.496 47.2441  Z\n  \" fill=\"#ffffff\" fill-rule=\"evenodd\" fill-opacity=\"1\"/>\n<defs>\n  <clipPath id=\"clip282\">\n    <rect x=\"189\" y=\"47\" width=\"2164\" height=\"1428\"/>\n  </clipPath>\n</defs>\n<polyline clip-path=\"url(#clip282)\" style=\"stroke:#000000; stroke-linecap:butt; stroke-linejoin:round; stroke-width:2; stroke-opacity:0.1; fill:none\" points=\"\n  332.845,1474.16 332.845,47.2441 \n  \"/>\n<polyline clip-path=\"url(#clip282)\" style=\"stroke:#000000; stroke-linecap:butt; stroke-linejoin:round; stroke-width:2; stroke-opacity:0.1; fill:none\" points=\"\n  1180.27,1474.16 1180.27,47.2441 \n  \"/>\n<polyline clip-path=\"url(#clip282)\" style=\"stroke:#000000; stroke-linecap:butt; stroke-linejoin:round; stroke-width:2; stroke-opacity:0.1; fill:none\" points=\"\n  2027.7,1474.16 2027.7,47.2441 \n  \"/>\n<polyline clip-path=\"url(#clip280)\" style=\"stroke:#000000; stroke-linecap:butt; stroke-linejoin:round; stroke-width:4; stroke-opacity:1; fill:none\" points=\"\n  189.496,1474.16 2352.76,1474.16 \n  \"/>\n<polyline clip-path=\"url(#clip280)\" style=\"stroke:#000000; stroke-linecap:butt; stroke-linejoin:round; stroke-width:4; stroke-opacity:1; fill:none\" points=\"\n  332.845,1474.16 332.845,1455.27 \n  \"/>\n<polyline clip-path=\"url(#clip280)\" style=\"stroke:#000000; stroke-linecap:butt; stroke-linejoin:round; stroke-width:4; stroke-opacity:1; fill:none\" points=\"\n  1180.27,1474.16 1180.27,1455.27 \n  \"/>\n<polyline clip-path=\"url(#clip280)\" style=\"stroke:#000000; stroke-linecap:butt; stroke-linejoin:round; stroke-width:4; stroke-opacity:1; fill:none\" points=\"\n  2027.7,1474.16 2027.7,1455.27 \n  \"/>\n<path clip-path=\"url(#clip280)\" d=\"M299.172 1548.29 L306.811 1548.29 L306.811 1521.92 L298.501 1523.59 L298.501 1519.33 L306.765 1517.66 L311.441 1517.66 L311.441 1548.29 L319.079 1548.29 L319.079 1552.22 L299.172 1552.22 L299.172 1548.29 Z\" fill=\"#000000\" fill-rule=\"evenodd\" fill-opacity=\"1\" /><path clip-path=\"url(#clip280)\" d=\"M338.524 1520.74 Q334.913 1520.74 333.084 1524.31 Q331.278 1527.85 331.278 1534.98 Q331.278 1542.09 333.084 1545.65 Q334.913 1549.19 338.524 1549.19 Q342.158 1549.19 343.964 1545.65 Q345.792 1542.09 345.792 1534.98 Q345.792 1527.85 343.964 1524.31 Q342.158 1520.74 338.524 1520.74 M338.524 1517.04 Q344.334 1517.04 347.389 1521.65 Q350.468 1526.23 350.468 1534.98 Q350.468 1543.71 347.389 1548.31 Q344.334 1552.9 338.524 1552.9 Q332.714 1552.9 329.635 1548.31 Q326.579 1543.71 326.579 1534.98 Q326.579 1526.23 329.635 1521.65 Q332.714 1517.04 338.524 1517.04 Z\" fill=\"#000000\" fill-rule=\"evenodd\" fill-opacity=\"1\" /><path clip-path=\"url(#clip280)\" d=\"M351.014 1521.62 L357.22 1521.62 L357.22 1500.19 L350.468 1501.55 L350.468 1498.09 L357.183 1496.73 L360.982 1496.73 L360.982 1521.62 L367.188 1521.62 L367.188 1524.81 L351.014 1524.81 L351.014 1521.62 Z\" fill=\"#000000\" fill-rule=\"evenodd\" fill-opacity=\"1\" /><path clip-path=\"url(#clip280)\" d=\"M1146.05 1548.29 L1153.68 1548.29 L1153.68 1521.92 L1145.37 1523.59 L1145.37 1519.33 L1153.64 1517.66 L1158.31 1517.66 L1158.31 1548.29 L1165.95 1548.29 L1165.95 1552.22 L1146.05 1552.22 L1146.05 1548.29 Z\" fill=\"#000000\" fill-rule=\"evenodd\" fill-opacity=\"1\" /><path clip-path=\"url(#clip280)\" d=\"M1185.4 1520.74 Q1181.79 1520.74 1179.96 1524.31 Q1178.15 1527.85 1178.15 1534.98 Q1178.15 1542.09 1179.96 1545.65 Q1181.79 1549.19 1185.4 1549.19 Q1189.03 1549.19 1190.84 1545.65 Q1192.67 1542.09 1192.67 1534.98 Q1192.67 1527.85 1190.84 1524.31 Q1189.03 1520.74 1185.4 1520.74 M1185.4 1517.04 Q1191.21 1517.04 1194.26 1521.65 Q1197.34 1526.23 1197.34 1534.98 Q1197.34 1543.71 1194.26 1548.31 Q1191.21 1552.9 1185.4 1552.9 Q1179.59 1552.9 1176.51 1548.31 Q1173.45 1543.71 1173.45 1534.98 Q1173.45 1526.23 1176.51 1521.65 Q1179.59 1517.04 1185.4 1517.04 Z\" fill=\"#000000\" fill-rule=\"evenodd\" fill-opacity=\"1\" /><path clip-path=\"url(#clip280)\" d=\"M1201.91 1521.62 L1215.17 1521.62 L1215.17 1524.81 L1197.34 1524.81 L1197.34 1521.62 Q1199.5 1519.38 1203.23 1515.62 Q1206.97 1511.84 1207.93 1510.75 Q1209.76 1508.7 1210.47 1507.29 Q1211.2 1505.86 1211.2 1504.48 Q1211.2 1502.24 1209.62 1500.83 Q1208.06 1499.42 1205.54 1499.42 Q1203.76 1499.42 1201.76 1500.04 Q1199.79 1500.67 1197.53 1501.93 L1197.53 1498.09 Q1199.82 1497.17 1201.82 1496.7 Q1203.81 1496.23 1205.47 1496.23 Q1209.83 1496.23 1212.43 1498.41 Q1215.02 1500.59 1215.02 1504.24 Q1215.02 1505.97 1214.36 1507.53 Q1213.72 1509.07 1212.01 1511.18 Q1211.54 1511.72 1209.02 1514.34 Q1206.5 1516.93 1201.91 1521.62 Z\" fill=\"#000000\" fill-rule=\"evenodd\" fill-opacity=\"1\" /><path clip-path=\"url(#clip280)\" d=\"M1993.15 1548.29 L2000.78 1548.29 L2000.78 1521.92 L1992.47 1523.59 L1992.47 1519.33 L2000.74 1517.66 L2005.41 1517.66 L2005.41 1548.29 L2013.05 1548.29 L2013.05 1552.22 L1993.15 1552.22 L1993.15 1548.29 Z\" fill=\"#000000\" fill-rule=\"evenodd\" fill-opacity=\"1\" /><path clip-path=\"url(#clip280)\" d=\"M2032.5 1520.74 Q2028.89 1520.74 2027.06 1524.31 Q2025.25 1527.85 2025.25 1534.98 Q2025.25 1542.09 2027.06 1545.65 Q2028.89 1549.19 2032.5 1549.19 Q2036.13 1549.19 2037.94 1545.65 Q2039.77 1542.09 2039.77 1534.98 Q2039.77 1527.85 2037.94 1524.31 Q2036.13 1520.74 2032.5 1520.74 M2032.5 1517.04 Q2038.31 1517.04 2041.36 1521.65 Q2044.44 1526.23 2044.44 1534.98 Q2044.44 1543.71 2041.36 1548.31 Q2038.31 1552.9 2032.5 1552.9 Q2026.69 1552.9 2023.61 1548.31 Q2020.55 1543.71 2020.55 1534.98 Q2020.55 1526.23 2023.61 1521.65 Q2026.69 1517.04 2032.5 1517.04 Z\" fill=\"#000000\" fill-rule=\"evenodd\" fill-opacity=\"1\" /><path clip-path=\"url(#clip280)\" d=\"M2057.14 1509.67 Q2059.86 1510.26 2061.39 1512.1 Q2062.93 1513.94 2062.93 1516.65 Q2062.93 1520.81 2060.07 1523.08 Q2057.21 1525.36 2051.95 1525.36 Q2050.18 1525.36 2048.3 1525 Q2046.43 1524.66 2044.44 1523.97 L2044.44 1520.3 Q2046.02 1521.22 2047.9 1521.69 Q2049.78 1522.16 2051.83 1522.16 Q2055.41 1522.16 2057.27 1520.75 Q2059.15 1519.34 2059.15 1516.65 Q2059.15 1514.17 2057.4 1512.78 Q2055.67 1511.37 2052.57 1511.37 L2049.29 1511.37 L2049.29 1508.24 L2052.72 1508.24 Q2055.52 1508.24 2057 1507.13 Q2058.49 1506.01 2058.49 1503.9 Q2058.49 1501.74 2056.95 1500.59 Q2055.43 1499.42 2052.57 1499.42 Q2051.01 1499.42 2049.22 1499.76 Q2047.43 1500.1 2045.29 1500.82 L2045.29 1497.43 Q2047.45 1496.83 2049.33 1496.53 Q2051.23 1496.23 2052.9 1496.23 Q2057.23 1496.23 2059.75 1498.2 Q2062.27 1500.16 2062.27 1503.51 Q2062.27 1505.84 2060.94 1507.45 Q2059.6 1509.05 2057.14 1509.67 Z\" fill=\"#000000\" fill-rule=\"evenodd\" fill-opacity=\"1\" /><polyline clip-path=\"url(#clip282)\" style=\"stroke:#000000; stroke-linecap:butt; stroke-linejoin:round; stroke-width:2; stroke-opacity:0.1; fill:none\" points=\"\n  189.496,1000.41 2352.76,1000.41 \n  \"/>\n<polyline clip-path=\"url(#clip282)\" style=\"stroke:#000000; stroke-linecap:butt; stroke-linejoin:round; stroke-width:2; stroke-opacity:0.1; fill:none\" points=\"\n  189.496,440.493 2352.76,440.493 \n  \"/>\n<polyline clip-path=\"url(#clip280)\" style=\"stroke:#000000; stroke-linecap:butt; stroke-linejoin:round; stroke-width:4; stroke-opacity:1; fill:none\" points=\"\n  189.496,1474.16 189.496,47.2441 \n  \"/>\n<polyline clip-path=\"url(#clip280)\" style=\"stroke:#000000; stroke-linecap:butt; stroke-linejoin:round; stroke-width:4; stroke-opacity:1; fill:none\" points=\"\n  189.496,1000.41 208.394,1000.41 \n  \"/>\n<polyline clip-path=\"url(#clip280)\" style=\"stroke:#000000; stroke-linecap:butt; stroke-linejoin:round; stroke-width:4; stroke-opacity:1; fill:none\" points=\"\n  189.496,440.493 208.394,440.493 \n  \"/>\n<path clip-path=\"url(#clip280)\" d=\"M51.6634 1020.2 L59.3023 1020.2 L59.3023 993.837 L50.9921 995.503 L50.9921 991.244 L59.256 989.577 L63.9319 989.577 L63.9319 1020.2 L71.5707 1020.2 L71.5707 1024.14 L51.6634 1024.14 L51.6634 1020.2 Z\" fill=\"#000000\" fill-rule=\"evenodd\" fill-opacity=\"1\" /><path clip-path=\"url(#clip280)\" d=\"M91.0151 992.656 Q87.404 992.656 85.5753 996.221 Q83.7697 999.762 83.7697 1006.89 Q83.7697 1014 85.5753 1017.56 Q87.404 1021.1 91.0151 1021.1 Q94.6493 1021.1 96.4548 1017.56 Q98.2835 1014 98.2835 1006.89 Q98.2835 999.762 96.4548 996.221 Q94.6493 992.656 91.0151 992.656 M91.0151 988.952 Q96.8252 988.952 99.8808 993.559 Q102.959 998.142 102.959 1006.89 Q102.959 1015.62 99.8808 1020.23 Q96.8252 1024.81 91.0151 1024.81 Q85.2049 1024.81 82.1262 1020.23 Q79.0707 1015.62 79.0707 1006.89 Q79.0707 998.142 82.1262 993.559 Q85.2049 988.952 91.0151 988.952 Z\" fill=\"#000000\" fill-rule=\"evenodd\" fill-opacity=\"1\" /><path clip-path=\"url(#clip280)\" d=\"M102.959 983.054 L127.071 983.054 L127.071 986.251 L102.959 986.251 L102.959 983.054 Z\" fill=\"#000000\" fill-rule=\"evenodd\" fill-opacity=\"1\" /><path clip-path=\"url(#clip280)\" d=\"M145.71 971.957 L136.118 986.947 L145.71 986.947 L145.71 971.957 M144.713 968.647 L149.49 968.647 L149.49 986.947 L153.496 986.947 L153.496 990.107 L149.49 990.107 L149.49 996.727 L145.71 996.727 L145.71 990.107 L133.033 990.107 L133.033 986.439 L144.713 968.647 Z\" fill=\"#000000\" fill-rule=\"evenodd\" fill-opacity=\"1\" /><path clip-path=\"url(#clip280)\" d=\"M53.3561 460.285 L60.995 460.285 L60.995 433.92 L52.6848 435.586 L52.6848 431.327 L60.9487 429.661 L65.6246 429.661 L65.6246 460.285 L73.2634 460.285 L73.2634 464.221 L53.3561 464.221 L53.3561 460.285 Z\" fill=\"#000000\" fill-rule=\"evenodd\" fill-opacity=\"1\" /><path clip-path=\"url(#clip280)\" d=\"M92.7078 432.739 Q89.0967 432.739 87.268 436.304 Q85.4624 439.846 85.4624 446.975 Q85.4624 454.082 87.268 457.647 Q89.0967 461.188 92.7078 461.188 Q96.342 461.188 98.1475 457.647 Q99.9762 454.082 99.9762 446.975 Q99.9762 439.846 98.1475 436.304 Q96.342 432.739 92.7078 432.739 M92.7078 429.036 Q98.5179 429.036 101.573 433.642 Q104.652 438.225 104.652 446.975 Q104.652 455.702 101.573 460.309 Q98.5179 464.892 92.7078 464.892 Q86.8976 464.892 83.8189 460.309 Q80.7634 455.702 80.7634 446.975 Q80.7634 438.225 83.8189 433.642 Q86.8976 429.036 92.7078 429.036 Z\" fill=\"#000000\" fill-rule=\"evenodd\" fill-opacity=\"1\" /><path clip-path=\"url(#clip280)\" d=\"M104.652 423.137 L128.764 423.137 L128.764 426.334 L104.652 426.334 L104.652 423.137 Z\" fill=\"#000000\" fill-rule=\"evenodd\" fill-opacity=\"1\" /><path clip-path=\"url(#clip280)\" d=\"M140.236 433.613 L153.496 433.613 L153.496 436.81 L135.666 436.81 L135.666 433.613 Q137.829 431.375 141.553 427.613 Q145.296 423.833 146.255 422.742 Q148.079 420.692 148.794 419.281 Q149.527 417.852 149.527 416.479 Q149.527 414.241 147.948 412.83 Q146.387 411.42 143.866 411.42 Q142.08 411.42 140.086 412.04 Q138.111 412.661 135.854 413.921 L135.854 410.084 Q138.149 409.163 140.142 408.693 Q142.136 408.222 143.791 408.222 Q148.155 408.222 150.75 410.404 Q153.345 412.586 153.345 416.234 Q153.345 417.965 152.687 419.526 Q152.048 421.068 150.336 423.175 Q149.866 423.72 147.346 426.334 Q144.826 428.93 140.236 433.613 Z\" fill=\"#000000\" fill-rule=\"evenodd\" fill-opacity=\"1\" /><polyline clip-path=\"url(#clip282)\" style=\"stroke:#009af9; stroke-linecap:butt; stroke-linejoin:round; stroke-width:4; stroke-opacity:1; fill:none\" points=\"\n  250.72,87.6286 505.822,250.529 760.923,421.785 1016.02,590.939 1271.13,760.233 1526.23,928.34 1781.33,1098.95 2036.43,1266.84 2291.53,1433.78 \n  \"/>\n<path clip-path=\"url(#clip280)\" d=\"\nM1987.85 198.488 L2280.65 198.488 L2280.65 94.8081 L1987.85 94.8081  Z\n  \" fill=\"#ffffff\" fill-rule=\"evenodd\" fill-opacity=\"1\"/>\n<polyline clip-path=\"url(#clip280)\" style=\"stroke:#000000; stroke-linecap:butt; stroke-linejoin:round; stroke-width:4; stroke-opacity:1; fill:none\" points=\"\n  1987.85,198.488 2280.65,198.488 2280.65,94.8081 1987.85,94.8081 1987.85,198.488 \n  \"/>\n<polyline clip-path=\"url(#clip280)\" style=\"stroke:#009af9; stroke-linecap:butt; stroke-linejoin:round; stroke-width:4; stroke-opacity:1; fill:none\" points=\"\n  2011.89,146.648 2156.11,146.648 \n  \"/>\n<path clip-path=\"url(#clip280)\" d=\"M2193.99 166.336 Q2192.18 170.965 2190.47 172.377 Q2188.76 173.789 2185.89 173.789 L2182.48 173.789 L2182.48 170.224 L2184.98 170.224 Q2186.74 170.224 2187.71 169.391 Q2188.69 168.558 2189.87 165.456 L2190.63 163.511 L2180.14 138.002 L2184.66 138.002 L2192.76 158.28 L2200.86 138.002 L2205.38 138.002 L2193.99 166.336 Z\" fill=\"#000000\" fill-rule=\"evenodd\" fill-opacity=\"1\" /><path clip-path=\"url(#clip280)\" d=\"M2212.67 159.993 L2220.31 159.993 L2220.31 133.627 L2212 135.294 L2212 131.035 L2220.26 129.368 L2224.94 129.368 L2224.94 159.993 L2232.57 159.993 L2232.57 163.928 L2212.67 163.928 L2212.67 159.993 Z\" fill=\"#000000\" fill-rule=\"evenodd\" fill-opacity=\"1\" /></svg>\n",
      "text/html": [
       "<?xml version=\"1.0\" encoding=\"utf-8\"?>\n",
       "<svg xmlns=\"http://www.w3.org/2000/svg\" xmlns:xlink=\"http://www.w3.org/1999/xlink\" width=\"600\" height=\"400\" viewBox=\"0 0 2400 1600\">\n",
       "<defs>\n",
       "  <clipPath id=\"clip330\">\n",
       "    <rect x=\"0\" y=\"0\" width=\"2400\" height=\"1600\"/>\n",
       "  </clipPath>\n",
       "</defs>\n",
       "<path clip-path=\"url(#clip330)\" d=\"\n",
       "M0 1600 L2400 1600 L2400 0 L0 0  Z\n",
       "  \" fill=\"#ffffff\" fill-rule=\"evenodd\" fill-opacity=\"1\"/>\n",
       "<defs>\n",
       "  <clipPath id=\"clip331\">\n",
       "    <rect x=\"480\" y=\"0\" width=\"1681\" height=\"1600\"/>\n",
       "  </clipPath>\n",
       "</defs>\n",
       "<path clip-path=\"url(#clip330)\" d=\"\n",
       "M189.496 1474.16 L2352.76 1474.16 L2352.76 47.2441 L189.496 47.2441  Z\n",
       "  \" fill=\"#ffffff\" fill-rule=\"evenodd\" fill-opacity=\"1\"/>\n",
       "<defs>\n",
       "  <clipPath id=\"clip332\">\n",
       "    <rect x=\"189\" y=\"47\" width=\"2164\" height=\"1428\"/>\n",
       "  </clipPath>\n",
       "</defs>\n",
       "<polyline clip-path=\"url(#clip332)\" style=\"stroke:#000000; stroke-linecap:butt; stroke-linejoin:round; stroke-width:2; stroke-opacity:0.1; fill:none\" points=\"\n",
       "  332.845,1474.16 332.845,47.2441 \n",
       "  \"/>\n",
       "<polyline clip-path=\"url(#clip332)\" style=\"stroke:#000000; stroke-linecap:butt; stroke-linejoin:round; stroke-width:2; stroke-opacity:0.1; fill:none\" points=\"\n",
       "  1180.27,1474.16 1180.27,47.2441 \n",
       "  \"/>\n",
       "<polyline clip-path=\"url(#clip332)\" style=\"stroke:#000000; stroke-linecap:butt; stroke-linejoin:round; stroke-width:2; stroke-opacity:0.1; fill:none\" points=\"\n",
       "  2027.7,1474.16 2027.7,47.2441 \n",
       "  \"/>\n",
       "<polyline clip-path=\"url(#clip330)\" style=\"stroke:#000000; stroke-linecap:butt; stroke-linejoin:round; stroke-width:4; stroke-opacity:1; fill:none\" points=\"\n",
       "  189.496,1474.16 2352.76,1474.16 \n",
       "  \"/>\n",
       "<polyline clip-path=\"url(#clip330)\" style=\"stroke:#000000; stroke-linecap:butt; stroke-linejoin:round; stroke-width:4; stroke-opacity:1; fill:none\" points=\"\n",
       "  332.845,1474.16 332.845,1455.27 \n",
       "  \"/>\n",
       "<polyline clip-path=\"url(#clip330)\" style=\"stroke:#000000; stroke-linecap:butt; stroke-linejoin:round; stroke-width:4; stroke-opacity:1; fill:none\" points=\"\n",
       "  1180.27,1474.16 1180.27,1455.27 \n",
       "  \"/>\n",
       "<polyline clip-path=\"url(#clip330)\" style=\"stroke:#000000; stroke-linecap:butt; stroke-linejoin:round; stroke-width:4; stroke-opacity:1; fill:none\" points=\"\n",
       "  2027.7,1474.16 2027.7,1455.27 \n",
       "  \"/>\n",
       "<path clip-path=\"url(#clip330)\" d=\"M299.172 1548.29 L306.811 1548.29 L306.811 1521.92 L298.501 1523.59 L298.501 1519.33 L306.765 1517.66 L311.441 1517.66 L311.441 1548.29 L319.079 1548.29 L319.079 1552.22 L299.172 1552.22 L299.172 1548.29 Z\" fill=\"#000000\" fill-rule=\"evenodd\" fill-opacity=\"1\" /><path clip-path=\"url(#clip330)\" d=\"M338.524 1520.74 Q334.913 1520.74 333.084 1524.31 Q331.278 1527.85 331.278 1534.98 Q331.278 1542.09 333.084 1545.65 Q334.913 1549.19 338.524 1549.19 Q342.158 1549.19 343.964 1545.65 Q345.792 1542.09 345.792 1534.98 Q345.792 1527.85 343.964 1524.31 Q342.158 1520.74 338.524 1520.74 M338.524 1517.04 Q344.334 1517.04 347.389 1521.65 Q350.468 1526.23 350.468 1534.98 Q350.468 1543.71 347.389 1548.31 Q344.334 1552.9 338.524 1552.9 Q332.714 1552.9 329.635 1548.31 Q326.579 1543.71 326.579 1534.98 Q326.579 1526.23 329.635 1521.65 Q332.714 1517.04 338.524 1517.04 Z\" fill=\"#000000\" fill-rule=\"evenodd\" fill-opacity=\"1\" /><path clip-path=\"url(#clip330)\" d=\"M351.014 1521.62 L357.22 1521.62 L357.22 1500.19 L350.468 1501.55 L350.468 1498.09 L357.183 1496.73 L360.982 1496.73 L360.982 1521.62 L367.188 1521.62 L367.188 1524.81 L351.014 1524.81 L351.014 1521.62 Z\" fill=\"#000000\" fill-rule=\"evenodd\" fill-opacity=\"1\" /><path clip-path=\"url(#clip330)\" d=\"M1146.05 1548.29 L1153.68 1548.29 L1153.68 1521.92 L1145.37 1523.59 L1145.37 1519.33 L1153.64 1517.66 L1158.31 1517.66 L1158.31 1548.29 L1165.95 1548.29 L1165.95 1552.22 L1146.05 1552.22 L1146.05 1548.29 Z\" fill=\"#000000\" fill-rule=\"evenodd\" fill-opacity=\"1\" /><path clip-path=\"url(#clip330)\" d=\"M1185.4 1520.74 Q1181.79 1520.74 1179.96 1524.31 Q1178.15 1527.85 1178.15 1534.98 Q1178.15 1542.09 1179.96 1545.65 Q1181.79 1549.19 1185.4 1549.19 Q1189.03 1549.19 1190.84 1545.65 Q1192.67 1542.09 1192.67 1534.98 Q1192.67 1527.85 1190.84 1524.31 Q1189.03 1520.74 1185.4 1520.74 M1185.4 1517.04 Q1191.21 1517.04 1194.26 1521.65 Q1197.34 1526.23 1197.34 1534.98 Q1197.34 1543.71 1194.26 1548.31 Q1191.21 1552.9 1185.4 1552.9 Q1179.59 1552.9 1176.51 1548.31 Q1173.45 1543.71 1173.45 1534.98 Q1173.45 1526.23 1176.51 1521.65 Q1179.59 1517.04 1185.4 1517.04 Z\" fill=\"#000000\" fill-rule=\"evenodd\" fill-opacity=\"1\" /><path clip-path=\"url(#clip330)\" d=\"M1201.91 1521.62 L1215.17 1521.62 L1215.17 1524.81 L1197.34 1524.81 L1197.34 1521.62 Q1199.5 1519.38 1203.23 1515.62 Q1206.97 1511.84 1207.93 1510.75 Q1209.76 1508.7 1210.47 1507.29 Q1211.2 1505.86 1211.2 1504.48 Q1211.2 1502.24 1209.62 1500.83 Q1208.06 1499.42 1205.54 1499.42 Q1203.76 1499.42 1201.76 1500.04 Q1199.79 1500.67 1197.53 1501.93 L1197.53 1498.09 Q1199.82 1497.17 1201.82 1496.7 Q1203.81 1496.23 1205.47 1496.23 Q1209.83 1496.23 1212.43 1498.41 Q1215.02 1500.59 1215.02 1504.24 Q1215.02 1505.97 1214.36 1507.53 Q1213.72 1509.07 1212.01 1511.18 Q1211.54 1511.72 1209.02 1514.34 Q1206.5 1516.93 1201.91 1521.62 Z\" fill=\"#000000\" fill-rule=\"evenodd\" fill-opacity=\"1\" /><path clip-path=\"url(#clip330)\" d=\"M1993.15 1548.29 L2000.78 1548.29 L2000.78 1521.92 L1992.47 1523.59 L1992.47 1519.33 L2000.74 1517.66 L2005.41 1517.66 L2005.41 1548.29 L2013.05 1548.29 L2013.05 1552.22 L1993.15 1552.22 L1993.15 1548.29 Z\" fill=\"#000000\" fill-rule=\"evenodd\" fill-opacity=\"1\" /><path clip-path=\"url(#clip330)\" d=\"M2032.5 1520.74 Q2028.89 1520.74 2027.06 1524.31 Q2025.25 1527.85 2025.25 1534.98 Q2025.25 1542.09 2027.06 1545.65 Q2028.89 1549.19 2032.5 1549.19 Q2036.13 1549.19 2037.94 1545.65 Q2039.77 1542.09 2039.77 1534.98 Q2039.77 1527.85 2037.94 1524.31 Q2036.13 1520.74 2032.5 1520.74 M2032.5 1517.04 Q2038.31 1517.04 2041.36 1521.65 Q2044.44 1526.23 2044.44 1534.98 Q2044.44 1543.71 2041.36 1548.31 Q2038.31 1552.9 2032.5 1552.9 Q2026.69 1552.9 2023.61 1548.31 Q2020.55 1543.71 2020.55 1534.98 Q2020.55 1526.23 2023.61 1521.65 Q2026.69 1517.04 2032.5 1517.04 Z\" fill=\"#000000\" fill-rule=\"evenodd\" fill-opacity=\"1\" /><path clip-path=\"url(#clip330)\" d=\"M2057.14 1509.67 Q2059.86 1510.26 2061.39 1512.1 Q2062.93 1513.94 2062.93 1516.65 Q2062.93 1520.81 2060.07 1523.08 Q2057.21 1525.36 2051.95 1525.36 Q2050.18 1525.36 2048.3 1525 Q2046.43 1524.66 2044.44 1523.97 L2044.44 1520.3 Q2046.02 1521.22 2047.9 1521.69 Q2049.78 1522.16 2051.83 1522.16 Q2055.41 1522.16 2057.27 1520.75 Q2059.15 1519.34 2059.15 1516.65 Q2059.15 1514.17 2057.4 1512.78 Q2055.67 1511.37 2052.57 1511.37 L2049.29 1511.37 L2049.29 1508.24 L2052.72 1508.24 Q2055.52 1508.24 2057 1507.13 Q2058.49 1506.01 2058.49 1503.9 Q2058.49 1501.74 2056.95 1500.59 Q2055.43 1499.42 2052.57 1499.42 Q2051.01 1499.42 2049.22 1499.76 Q2047.43 1500.1 2045.29 1500.82 L2045.29 1497.43 Q2047.45 1496.83 2049.33 1496.53 Q2051.23 1496.23 2052.9 1496.23 Q2057.23 1496.23 2059.75 1498.2 Q2062.27 1500.16 2062.27 1503.51 Q2062.27 1505.84 2060.94 1507.45 Q2059.6 1509.05 2057.14 1509.67 Z\" fill=\"#000000\" fill-rule=\"evenodd\" fill-opacity=\"1\" /><polyline clip-path=\"url(#clip332)\" style=\"stroke:#000000; stroke-linecap:butt; stroke-linejoin:round; stroke-width:2; stroke-opacity:0.1; fill:none\" points=\"\n",
       "  189.496,1000.41 2352.76,1000.41 \n",
       "  \"/>\n",
       "<polyline clip-path=\"url(#clip332)\" style=\"stroke:#000000; stroke-linecap:butt; stroke-linejoin:round; stroke-width:2; stroke-opacity:0.1; fill:none\" points=\"\n",
       "  189.496,440.493 2352.76,440.493 \n",
       "  \"/>\n",
       "<polyline clip-path=\"url(#clip330)\" style=\"stroke:#000000; stroke-linecap:butt; stroke-linejoin:round; stroke-width:4; stroke-opacity:1; fill:none\" points=\"\n",
       "  189.496,1474.16 189.496,47.2441 \n",
       "  \"/>\n",
       "<polyline clip-path=\"url(#clip330)\" style=\"stroke:#000000; stroke-linecap:butt; stroke-linejoin:round; stroke-width:4; stroke-opacity:1; fill:none\" points=\"\n",
       "  189.496,1000.41 208.394,1000.41 \n",
       "  \"/>\n",
       "<polyline clip-path=\"url(#clip330)\" style=\"stroke:#000000; stroke-linecap:butt; stroke-linejoin:round; stroke-width:4; stroke-opacity:1; fill:none\" points=\"\n",
       "  189.496,440.493 208.394,440.493 \n",
       "  \"/>\n",
       "<path clip-path=\"url(#clip330)\" d=\"M51.6634 1020.2 L59.3023 1020.2 L59.3023 993.837 L50.9921 995.503 L50.9921 991.244 L59.256 989.577 L63.9319 989.577 L63.9319 1020.2 L71.5707 1020.2 L71.5707 1024.14 L51.6634 1024.14 L51.6634 1020.2 Z\" fill=\"#000000\" fill-rule=\"evenodd\" fill-opacity=\"1\" /><path clip-path=\"url(#clip330)\" d=\"M91.0151 992.656 Q87.404 992.656 85.5753 996.221 Q83.7697 999.762 83.7697 1006.89 Q83.7697 1014 85.5753 1017.56 Q87.404 1021.1 91.0151 1021.1 Q94.6493 1021.1 96.4548 1017.56 Q98.2835 1014 98.2835 1006.89 Q98.2835 999.762 96.4548 996.221 Q94.6493 992.656 91.0151 992.656 M91.0151 988.952 Q96.8252 988.952 99.8808 993.559 Q102.959 998.142 102.959 1006.89 Q102.959 1015.62 99.8808 1020.23 Q96.8252 1024.81 91.0151 1024.81 Q85.2049 1024.81 82.1262 1020.23 Q79.0707 1015.62 79.0707 1006.89 Q79.0707 998.142 82.1262 993.559 Q85.2049 988.952 91.0151 988.952 Z\" fill=\"#000000\" fill-rule=\"evenodd\" fill-opacity=\"1\" /><path clip-path=\"url(#clip330)\" d=\"M102.959 983.054 L127.071 983.054 L127.071 986.251 L102.959 986.251 L102.959 983.054 Z\" fill=\"#000000\" fill-rule=\"evenodd\" fill-opacity=\"1\" /><path clip-path=\"url(#clip330)\" d=\"M145.71 971.957 L136.118 986.947 L145.71 986.947 L145.71 971.957 M144.713 968.647 L149.49 968.647 L149.49 986.947 L153.496 986.947 L153.496 990.107 L149.49 990.107 L149.49 996.727 L145.71 996.727 L145.71 990.107 L133.033 990.107 L133.033 986.439 L144.713 968.647 Z\" fill=\"#000000\" fill-rule=\"evenodd\" fill-opacity=\"1\" /><path clip-path=\"url(#clip330)\" d=\"M53.3561 460.285 L60.995 460.285 L60.995 433.92 L52.6848 435.586 L52.6848 431.327 L60.9487 429.661 L65.6246 429.661 L65.6246 460.285 L73.2634 460.285 L73.2634 464.221 L53.3561 464.221 L53.3561 460.285 Z\" fill=\"#000000\" fill-rule=\"evenodd\" fill-opacity=\"1\" /><path clip-path=\"url(#clip330)\" d=\"M92.7078 432.739 Q89.0967 432.739 87.268 436.304 Q85.4624 439.846 85.4624 446.975 Q85.4624 454.082 87.268 457.647 Q89.0967 461.188 92.7078 461.188 Q96.342 461.188 98.1475 457.647 Q99.9762 454.082 99.9762 446.975 Q99.9762 439.846 98.1475 436.304 Q96.342 432.739 92.7078 432.739 M92.7078 429.036 Q98.5179 429.036 101.573 433.642 Q104.652 438.225 104.652 446.975 Q104.652 455.702 101.573 460.309 Q98.5179 464.892 92.7078 464.892 Q86.8976 464.892 83.8189 460.309 Q80.7634 455.702 80.7634 446.975 Q80.7634 438.225 83.8189 433.642 Q86.8976 429.036 92.7078 429.036 Z\" fill=\"#000000\" fill-rule=\"evenodd\" fill-opacity=\"1\" /><path clip-path=\"url(#clip330)\" d=\"M104.652 423.137 L128.764 423.137 L128.764 426.334 L104.652 426.334 L104.652 423.137 Z\" fill=\"#000000\" fill-rule=\"evenodd\" fill-opacity=\"1\" /><path clip-path=\"url(#clip330)\" d=\"M140.236 433.613 L153.496 433.613 L153.496 436.81 L135.666 436.81 L135.666 433.613 Q137.829 431.375 141.553 427.613 Q145.296 423.833 146.255 422.742 Q148.079 420.692 148.794 419.281 Q149.527 417.852 149.527 416.479 Q149.527 414.241 147.948 412.83 Q146.387 411.42 143.866 411.42 Q142.08 411.42 140.086 412.04 Q138.111 412.661 135.854 413.921 L135.854 410.084 Q138.149 409.163 140.142 408.693 Q142.136 408.222 143.791 408.222 Q148.155 408.222 150.75 410.404 Q153.345 412.586 153.345 416.234 Q153.345 417.965 152.687 419.526 Q152.048 421.068 150.336 423.175 Q149.866 423.72 147.346 426.334 Q144.826 428.93 140.236 433.613 Z\" fill=\"#000000\" fill-rule=\"evenodd\" fill-opacity=\"1\" /><polyline clip-path=\"url(#clip332)\" style=\"stroke:#009af9; stroke-linecap:butt; stroke-linejoin:round; stroke-width:4; stroke-opacity:1; fill:none\" points=\"\n",
       "  250.72,87.6286 505.822,250.529 760.923,421.785 1016.02,590.939 1271.13,760.233 1526.23,928.34 1781.33,1098.95 2036.43,1266.84 2291.53,1433.78 \n",
       "  \"/>\n",
       "<path clip-path=\"url(#clip330)\" d=\"\n",
       "M1987.85 198.488 L2280.65 198.488 L2280.65 94.8081 L1987.85 94.8081  Z\n",
       "  \" fill=\"#ffffff\" fill-rule=\"evenodd\" fill-opacity=\"1\"/>\n",
       "<polyline clip-path=\"url(#clip330)\" style=\"stroke:#000000; stroke-linecap:butt; stroke-linejoin:round; stroke-width:4; stroke-opacity:1; fill:none\" points=\"\n",
       "  1987.85,198.488 2280.65,198.488 2280.65,94.8081 1987.85,94.8081 1987.85,198.488 \n",
       "  \"/>\n",
       "<polyline clip-path=\"url(#clip330)\" style=\"stroke:#009af9; stroke-linecap:butt; stroke-linejoin:round; stroke-width:4; stroke-opacity:1; fill:none\" points=\"\n",
       "  2011.89,146.648 2156.11,146.648 \n",
       "  \"/>\n",
       "<path clip-path=\"url(#clip330)\" d=\"M2193.99 166.336 Q2192.18 170.965 2190.47 172.377 Q2188.76 173.789 2185.89 173.789 L2182.48 173.789 L2182.48 170.224 L2184.98 170.224 Q2186.74 170.224 2187.71 169.391 Q2188.69 168.558 2189.87 165.456 L2190.63 163.511 L2180.14 138.002 L2184.66 138.002 L2192.76 158.28 L2200.86 138.002 L2205.38 138.002 L2193.99 166.336 Z\" fill=\"#000000\" fill-rule=\"evenodd\" fill-opacity=\"1\" /><path clip-path=\"url(#clip330)\" d=\"M2212.67 159.993 L2220.31 159.993 L2220.31 133.627 L2212 135.294 L2212 131.035 L2220.26 129.368 L2224.94 129.368 L2224.94 159.993 L2232.57 159.993 L2232.57 163.928 L2212.67 163.928 L2212.67 159.993 Z\" fill=\"#000000\" fill-rule=\"evenodd\" fill-opacity=\"1\" /></svg>\n"
      ]
     },
     "metadata": {},
     "output_type": "display_data"
    }
   ],
   "source": [
    "using Plots\n",
    "\n",
    "plot(data.nbelement, data.erreurL2, xaxis=:log, yaxis=:log)"
   ]
  },
  {
   "cell_type": "markdown",
   "metadata": {},
   "source": [
    "### Bibliographie"
   ]
  },
  {
   "cell_type": "markdown",
   "metadata": {},
   "source": [
    "<u> Documentation FreeFEM++, page sur les éléments finis </u> : [https://doc.freefem.org/documentation/finite-element.html](https://doc.freefem.org/documentation/finite-element.html)"
   ]
  }
 ],
 "metadata": {
  "kernelspec": {
   "display_name": "Julia 1.7.3",
   "language": "julia",
   "name": "julia-1.7"
  },
  "language_info": {
   "file_extension": ".jl",
   "mimetype": "application/julia",
   "name": "julia",
   "version": "1.7.3"
  },
  "orig_nbformat": 4,
  "vscode": {
   "interpreter": {
    "hash": "d6fbbeff307445a430872ed1a94c3229c480c9e421775733cac797382a77f268"
   }
  }
 },
 "nbformat": 4,
 "nbformat_minor": 2
}
