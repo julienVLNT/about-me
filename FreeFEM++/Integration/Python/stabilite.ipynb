{
 "cells": [
  {
   "cell_type": "markdown",
   "metadata": {},
   "source": [
    "# Etude de la stabilité d'un schéma éléments finis pour l'équation de Poisson"
   ]
  },
  {
   "cell_type": "markdown",
   "metadata": {},
   "source": [
    "Soit $\\Omega$ le disque unité ouvert de $\\mathbb{R}^2$. On considère\n",
    "\n",
    "$$\n",
    "u :\n",
    "\\left\\{\n",
    "\\begin{array}{rcl}\n",
    "\\Omega & \\longrightarrow & \\mathbb{R} \\\\\n",
    "(x,y) & \\longmapsto & 1 - x^2 - y^2\n",
    "\\end{array}\n",
    "\\right.\n",
    "$$\n",
    "\n",
    "$u$ est une fonction analytique (car polynomiale) sur le domaine $\\Omega$. De plus, on calcule\n",
    "\n",
    "$$\n",
    "\\frac{\\partial^2 u}{\\partial x^2}(x, y) = - 2\n",
    "$$\n",
    "\n",
    "et \n",
    "\n",
    "$$\n",
    "\\frac{\\partial^2 u}{\\partial y^2}(x, y) = -2\n",
    "$$\n",
    "\n",
    "si bien que \n",
    "\n",
    "$$\n",
    "-\\Delta u \\, (x, y) = 4\n",
    "$$\n",
    "\n",
    "qui est l'équation de Poisson que nous allons prendre comme problème test. D'autre part, la fonction $u$ est nulle sur le bord du disque, ce qui nous donne des conditions aux limites de Dirichlet homogènes. La formulation variationnelle associée au problème s'écrit\n",
    "\n",
    "> **Trouver** $u \\in H^1_0(\\Omega)$ telle que\n",
    ">\n",
    "> $$\n",
    "> \\int_\\Omega \\nabla u \\cdot \\nabla v d\\mathbf{x} = \\int_\\Omega f v d\\mathbf{x} \\hspace{30pt} \\forall v \\in H^1_0(\\Omega)\n",
    "> $$\n",
    "\n",
    "Ce problème est implémenté dans le script `script.edp`, écrit en langage FreeFEM++. Le setup choisi est la base d'interpolation $P_1$-Lagrange et la formule de quadrature par défaut."
   ]
  },
  {
   "cell_type": "markdown",
   "metadata": {},
   "source": [
    "### Execution"
   ]
  },
  {
   "cell_type": "code",
   "execution_count": 1,
   "metadata": {},
   "outputs": [
    {
     "data": {
      "text/plain": [
       "0"
      ]
     },
     "execution_count": 1,
     "metadata": {},
     "output_type": "execute_result"
    }
   ],
   "source": [
    "import os\n",
    "os.system(\"FreeFem++ poisson.edp -ns\")"
   ]
  },
  {
   "cell_type": "markdown",
   "metadata": {},
   "source": [
    "Le script écrit dans le fichier `erreur.dat` la norme $L^2(\\mathcal{T}_h)$ de l'erreur entre la solution analytique et son interpolée. La norme s'écrit\n",
    "\n",
    "$$\n",
    "\\epsilon := \\| u - u_a \\|_{L^2(\\mathcal{T}_h)} = \\sqrt{ \\frac{1}{\\left|\\mathcal{T}_h\\right|}\\int_{\\mathcal{T}_h} (u - u_a)^2 d\\mathbf{x} }\n",
    "$$"
   ]
  },
  {
   "cell_type": "markdown",
   "metadata": {},
   "source": [
    "### Lecture des résultats"
   ]
  },
  {
   "cell_type": "code",
   "execution_count": 2,
   "metadata": {},
   "outputs": [
    {
     "data": {
      "text/html": [
       "<div>\n",
       "<style scoped>\n",
       "    .dataframe tbody tr th:only-of-type {\n",
       "        vertical-align: middle;\n",
       "    }\n",
       "\n",
       "    .dataframe tbody tr th {\n",
       "        vertical-align: top;\n",
       "    }\n",
       "\n",
       "    .dataframe thead th {\n",
       "        text-align: right;\n",
       "    }\n",
       "</style>\n",
       "<table border=\"1\" class=\"dataframe\">\n",
       "  <thead>\n",
       "    <tr style=\"text-align: right;\">\n",
       "      <th></th>\n",
       "      <th>nbelement</th>\n",
       "      <th>erreurL2</th>\n",
       "    </tr>\n",
       "  </thead>\n",
       "  <tbody>\n",
       "    <tr>\n",
       "      <th>0</th>\n",
       "      <td>8</td>\n",
       "      <td>0.182145</td>\n",
       "    </tr>\n",
       "    <tr>\n",
       "      <th>1</th>\n",
       "      <td>16</td>\n",
       "      <td>0.047703</td>\n",
       "    </tr>\n",
       "    <tr>\n",
       "      <th>2</th>\n",
       "      <td>32</td>\n",
       "      <td>0.011663</td>\n",
       "    </tr>\n",
       "    <tr>\n",
       "      <th>3</th>\n",
       "      <td>64</td>\n",
       "      <td>0.002901</td>\n",
       "    </tr>\n",
       "    <tr>\n",
       "      <th>4</th>\n",
       "      <td>128</td>\n",
       "      <td>0.000721</td>\n",
       "    </tr>\n",
       "  </tbody>\n",
       "</table>\n",
       "</div>"
      ],
      "text/plain": [
       "   nbelement  erreurL2\n",
       "0          8  0.182145\n",
       "1         16  0.047703\n",
       "2         32  0.011663\n",
       "3         64  0.002901\n",
       "4        128  0.000721"
      ]
     },
     "execution_count": 2,
     "metadata": {},
     "output_type": "execute_result"
    }
   ],
   "source": [
    "import pandas as pd\n",
    "data = pd.read_csv(\"erreur.dat\")\n",
    "data.head()"
   ]
  },
  {
   "cell_type": "markdown",
   "metadata": {},
   "source": [
    "### Graphe de la norme de l'erreur"
   ]
  },
  {
   "cell_type": "code",
   "execution_count": 3,
   "metadata": {},
   "outputs": [
    {
     "data": {
      "image/png": "[encoded data removed]",
      "text/plain": [
       "<Figure size 432x288 with 1 Axes>"
      ]
     },
     "metadata": {
      "needs_background": "light"
     },
     "output_type": "display_data"
    }
   ],
   "source": [
    "import matplotlib.pyplot as plt\n",
    "\n",
    "plt.loglog(data['nbelement'], data['erreurL2'], label=r\"$|| \\epsilon ||_{L^2}$\")\n",
    "plt.loglog(data['nbelement'], 1/data['nbelement']**2, label=r\"$y = h^{-2}$\")\n",
    "plt.legend()\n",
    "plt.show()"
   ]
  },
  {
   "cell_type": "markdown",
   "metadata": {},
   "source": [
    "### Bibliographie"
   ]
  },
  {
   "cell_type": "markdown",
   "metadata": {},
   "source": [
    "<u> Documentation FreeFEM++, page sur les éléments finis </u> : [https://doc.freefem.org/documentation/finite-element.html](https://doc.freefem.org/documentation/finite-element.html)"
   ]
  }
 ],
 "metadata": {
  "kernelspec": {
   "display_name": "Python 3.10.4 ('bistable')",
   "language": "python",
   "name": "python3"
  },
  "language_info": {
   "codemirror_mode": {
    "name": "ipython",
    "version": 3
   },
   "file_extension": ".py",
   "mimetype": "text/x-python",
   "name": "python",
   "nbconvert_exporter": "python",
   "pygments_lexer": "ipython3",
   "version": "3.10.4"
  },
  "orig_nbformat": 4,
  "vscode": {
   "interpreter": {
    "hash": "d6fbbeff307445a430872ed1a94c3229c480c9e421775733cac797382a77f268"
   }
  }
 },
 "nbformat": 4,
 "nbformat_minor": 2
}
